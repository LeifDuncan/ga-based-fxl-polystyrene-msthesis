{
 "cells": [
  {
   "cell_type": "code",
   "execution_count": null,
   "metadata": {},
   "outputs": [],
   "source": [
    "import re\n",
    "import os\n",
    "import pandas as pd\n",
    "import numpy as np\n",
    "import matplotlib\n",
    "import matplotlib.pyplot as plt\n",
    "from matplotlib.lines import Line2D\n",
    "from matplotlib.ticker import AutoMinorLocator"
   ]
  },
  {
   "cell_type": "code",
   "execution_count": null,
   "metadata": {},
   "outputs": [],
   "source": [
    "matplotlib.rcParams['figure.figsize'] = [3.6,3]\n",
    "matplotlib.rcParams['figure.dpi'] = 100\n",
    "#matplotlib.rcParams['figure.figsize'] = [10,4]"
   ]
  },
  {
   "cell_type": "markdown",
   "metadata": {},
   "source": [
    "# Spectra of All Precursors in (1 Graph per Timepoint)"
   ]
  },
  {
   "cell_type": "code",
   "execution_count": null,
   "metadata": {
    "code_folding": []
   },
   "outputs": [],
   "source": [
    "class SpectraByPrecursor():\n",
    "    \n",
    "    def __init__(self, file):\n",
    "        self.file = file\n",
    "        \n",
    "    def get_spectra(self):\n",
    "        df = pd.read_excel(self.file, header=None)\n",
    "        df.replace('OVRFLW', 4.0, inplace=True)\n",
    "        \n",
    "        # names\n",
    "        ph_list = ['ph 6', 'ph 6_chloride', 'ph 7', 'ph 7_chloride', \n",
    "                   'ph 8', 'ph 8_chloride', 'GA in Water', 'Water (Blank)']\n",
    "        std_list = [each + ' std' for each in ph_list]\n",
    "        mean_list = [each + ' mean' for each in ph_list]\n",
    "        samples = ['pH 6', 'pH 6 + chloride', 'pH 7', 'pH 7 + chloride', \n",
    "                   'pH 8', 'pH 8 + chloride', 'GA in Water', 'Water (Blank)']\n",
    "        sample_dict = dict(zip(mean_list, samples))\n",
    "        \n",
    "        # data manipulation\n",
    "        combined_list = []\n",
    "        for i in range(len(std_list)):\n",
    "            combined_list.append(mean_list[i])\n",
    "            combined_list.append(std_list[i])\n",
    "\n",
    "        wavelengths = np.arange(300,701,10)\n",
    "        frames = []\n",
    "        for i in range(len(wavelengths)):\n",
    "            starter = 26 + i*12\n",
    "            ender = 34 + i*12\n",
    "            frame = df.iloc[starter:ender, 2:5]\n",
    "            frame.columns = ['t1', 't2', 't3']\n",
    "            frame.index = ph_list\n",
    "            frames.append(frame)\n",
    "\n",
    "        means = []\n",
    "        for i in range(len(frames)):\n",
    "            df1 = frames[i].mean(axis='columns')\n",
    "            df1.index = mean_list\n",
    "            means.append(df1)\n",
    "\n",
    "        stdevs = []\n",
    "        for i in range(len(frames)):\n",
    "            df1 = frames[i].std(axis='columns')\n",
    "            df1.index = std_list\n",
    "            stdevs.append(df1)\n",
    "\n",
    "        mean_df = pd.DataFrame(means, index=wavelengths)\n",
    "        std_df = pd.DataFrame(stdevs, index=wavelengths)\n",
    "\n",
    "        compiled_df = pd.concat([mean_df, std_df], axis='columns')\n",
    "        compiled_df = compiled_df[combined_list]\n",
    "        \n",
    "        return compiled_df\n",
    "    \n",
    "    def get_plot(self, purpose='plot'):\n",
    "        \n",
    "        def _return_legend():\n",
    "            return ax.legend(prop={'size':12}, loc=(1.04,0))\n",
    "\n",
    "        def _return_none():\n",
    "            return None\n",
    "\n",
    "        def _legend_dict(purpose):\n",
    "            mydict = {'legend':_return_legend,'plot':_return_none}\n",
    "            return mydict[purpose]()\n",
    "\n",
    "        x = self.get_spectra().index\n",
    "        shape_list = 's,s,o,o,^,^,v,v'.split(',')\n",
    "        color_list = 'k,k,r,r,g,g,b,b'.split(',')\n",
    "        #color_list = 'black,black,red,red,lime,lime,deepskyblue,deepskyblue'.split(',')\n",
    "        fill_list = 'k,none,r,none,g,none,b,none'.split(',')\n",
    "        mew = [0,0.5,0,0.5,0,0.5,0,0.5]\n",
    "        \n",
    "        ph_list = ['ph 6', 'ph 6_chloride', 'ph 7', 'ph 7_chloride', \n",
    "                   'ph 8', 'ph 8_chloride', 'GA in Water', 'Water (Blank)']\n",
    "        std_list = [each + ' std' for each in ph_list]\n",
    "        mean_list = [each + ' mean' for each in ph_list]\n",
    "        samples = ['pH 6', 'pH 6 + chloride', 'pH 7', 'pH 7 + chloride', \n",
    "                   'pH 8', 'pH 8 + chloride', 'GA in Water', 'Water (Blank)']\n",
    "        sample_dict = dict(zip(mean_list, samples))\n",
    "        \n",
    "        compiled_df = self.get_spectra()\n",
    "        \n",
    "        fig = plt.figure(figsize=(3.6,3))\n",
    "        ax = fig.add_subplot(111)\n",
    "        for i in range(len(mean_list)):\n",
    "            mean_col = mean_list[i]\n",
    "            std_col = std_list[i]\n",
    "            y = compiled_df[mean_col]\n",
    "            err = compiled_df[std_col]\n",
    "            fmt = color_list[i]+shape_list[i]\n",
    "            #ax.plot(x, y, fmt, markerfacecolor=fill_list[i])\n",
    "            ax.errorbar(x,y, yerr=err, fmt=fmt, markeredgewidth=mew[i],\n",
    "                        markerfacecolor=fill_list[i],\n",
    "                        markersize=6.5, label=sample_dict[mean_col])\n",
    "            #ax.legend(prop={'size':12}, loc=(1.04,0)) #comment-out yet since only 1 legend will be used in the manuscript\n",
    "        _legend_dict(purpose) # can remove the arg from def and it will scope to arg in outer def\n",
    "        ax.set_xlabel('Wavelength (nm)', fontsize=11)\n",
    "        ax.set_ylabel('Absorbance', fontsize=11)\n",
    "        ax.set_ylim([-0.1,4.3])\n",
    "        \n",
    "        x_minor_locator = AutoMinorLocator(2)\n",
    "        ax.xaxis.set_minor_locator(x_minor_locator)\n",
    "        \n",
    "        y_minor_locator = AutoMinorLocator(2)\n",
    "        ax.yaxis.set_minor_locator(y_minor_locator)\n",
    "        \n",
    "        plt.tight_layout()"
   ]
  },
  {
   "cell_type": "code",
   "execution_count": null,
   "metadata": {
    "code_folding": []
   },
   "outputs": [],
   "source": [
    "location = r\"C:\\codeenv\\Thesis\\Raw\\uv-vis spectra\"\n",
    "filenames = [xlfile for xlfile in os.listdir(location) if xlfile.startswith('GA Buffer')]\n",
    "files = list(map(lambda x: os.path.join(location, x), filenames))\n",
    "savelocation = r'C:\\codeenv\\Thesis\\Manuscript\\Manuscript proper\\Images, tables\\regen mpl'\n",
    "\n",
    "for file in files:\n",
    "    filename = os.path.splitext(os.path.basename(file))[0]\n",
    "    spectra = SpectraByPrecursor(file)\n",
    "    spectra.get_plot() \n",
    "    plt.show()\n",
    "    #plt.savefig(os.path.join(savelocation,filename)+'.tif', dpi=300)"
   ]
  },
  {
   "cell_type": "code",
   "execution_count": null,
   "metadata": {},
   "outputs": [],
   "source": [
    "# enable the ax.legend on line 96 in the class definition and run this cell to get a legend\n",
    "filename = os.path.splitext(os.path.basename(file))[0]\n",
    "spectra = SpectraByPrecursor(file)\n",
    "spectra.get_plot('legend') \n",
    "plt.show()\n",
    "#plt.savefig(os.path.join(savelocation,'legend.tif'), dpi=300)"
   ]
  }
 ],
 "metadata": {
  "kernelspec": {
   "display_name": "Python 3",
   "language": "python",
   "name": "python3"
  },
  "language_info": {
   "codemirror_mode": {
    "name": "ipython",
    "version": 3
   },
   "file_extension": ".py",
   "mimetype": "text/x-python",
   "name": "python",
   "nbconvert_exporter": "python",
   "pygments_lexer": "ipython3",
   "version": "3.7.4"
  },
  "varInspector": {
   "cols": {
    "lenName": 16,
    "lenType": 16,
    "lenVar": 40
   },
   "kernels_config": {
    "python": {
     "delete_cmd_postfix": "",
     "delete_cmd_prefix": "del ",
     "library": "var_list.py",
     "varRefreshCmd": "print(var_dic_list())"
    },
    "r": {
     "delete_cmd_postfix": ") ",
     "delete_cmd_prefix": "rm(",
     "library": "var_list.r",
     "varRefreshCmd": "cat(var_dic_list()) "
    }
   },
   "types_to_exclude": [
    "module",
    "function",
    "builtin_function_or_method",
    "instance",
    "_Feature"
   ],
   "window_display": false
  }
 },
 "nbformat": 4,
 "nbformat_minor": 2
}
